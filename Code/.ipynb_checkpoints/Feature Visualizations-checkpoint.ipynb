{
 "cells": [
  {
   "cell_type": "markdown",
   "id": "31892c32",
   "metadata": {},
   "source": [
    "### Import libraries and set palette"
   ]
  },
  {
   "cell_type": "code",
   "execution_count": 1,
   "id": "55e6f4f2",
   "metadata": {},
   "outputs": [],
   "source": [
    "import pandas as pd\n",
    "import numpy as np\n",
    "import seaborn as sns\n",
    "import matplotlib.pyplot as plt\n",
    "from sklearn import metrics\n",
    "from scipy import stats\n",
    "from sklearn.model_selection import cross_val_score, train_test_split\n",
    "from sklearn.linear_model import LinearRegression, RidgeCV, LassoCV\n",
    "from sklearn.preprocessing import StandardScaler\n",
    "import statsmodels.api as sm"
   ]
  },
  {
   "cell_type": "code",
   "execution_count": 2,
   "id": "a2f2d558",
   "metadata": {},
   "outputs": [
    {
     "data": {
      "text/html": [
       "<svg  width=\"330\" height=\"55\"><rect x=\"0\" y=\"0\" width=\"55\" height=\"55\" style=\"fill:#386df9;stroke-width:2;stroke:rgb(255,255,255)\"/><rect x=\"55\" y=\"0\" width=\"55\" height=\"55\" style=\"fill:#12c8e6;stroke-width:2;stroke:rgb(255,255,255)\"/><rect x=\"110\" y=\"0\" width=\"55\" height=\"55\" style=\"fill:#5af8c8;stroke-width:2;stroke:rgb(255,255,255)\"/><rect x=\"165\" y=\"0\" width=\"55\" height=\"55\" style=\"fill:#a4f89f;stroke-width:2;stroke:rgb(255,255,255)\"/><rect x=\"220\" y=\"0\" width=\"55\" height=\"55\" style=\"fill:#ecc86f;stroke-width:2;stroke:rgb(255,255,255)\"/><rect x=\"275\" y=\"0\" width=\"55\" height=\"55\" style=\"fill:#ff6d38;stroke-width:2;stroke:rgb(255,255,255)\"/></svg>"
      ],
      "text/plain": [
       "[(0.21764705882352942, 0.42912060877260894, 0.9755119679804366),\n",
       " (0.0725490196078431, 0.7829276104921027, 0.9005867023006374),\n",
       " (0.3549019607843137, 0.9741386021045101, 0.7829276104921028),\n",
       " (0.6450980392156862, 0.9741386021045102, 0.622112816721474),\n",
       " (0.9274509803921569, 0.7829276104921029, 0.43467642176596505),\n",
       " (1.0, 0.42912060877260916, 0.2199463578396687)]"
      ]
     },
     "execution_count": 2,
     "metadata": {},
     "output_type": "execute_result"
    }
   ],
   "source": [
    "sns.color_palette(\"rainbow\")\n",
    "\n",
    "# found a helpful article on sns color palettes here \n",
    "#https://medium.com/@morganjonesartist/color-guide-to-seaborn-palettes-da849406d44f"
   ]
  },
  {
   "cell_type": "code",
   "execution_count": 3,
   "id": "e5945ffb",
   "metadata": {},
   "outputs": [],
   "source": [
    "sns.set_palette(\"rainbow\")"
   ]
  },
  {
   "cell_type": "markdown",
   "id": "310eb641",
   "metadata": {},
   "source": [
    "### Read in and clean data for visualizations"
   ]
  },
  {
   "cell_type": "code",
   "execution_count": 4,
   "id": "c06bc404",
   "metadata": {},
   "outputs": [],
   "source": [
    "#read in training data\n",
    "\n",
    "houses = pd.read_csv('../datasets/train.csv')"
   ]
  },
  {
   "cell_type": "code",
   "execution_count": 8,
   "id": "159de8eb",
   "metadata": {},
   "outputs": [],
   "source": [
    "#data cleaning function feature interaction variables added\n",
    "\n",
    "def clean_data_added_features(df):\n",
    "    \n",
    "    #lowercase columns\n",
    "    df.columns = df.columns.str.lower().str.replace(' ', '_')\n",
    "    \n",
    "    #ordinal data dictionary \n",
    "    ord_dict = {\n",
    "        'Ex' : 5,\n",
    "        'Gd' : 4,\n",
    "        'TA' : 3,\n",
    "        'Fa' : 2,\n",
    "        'Po' : 1,\n",
    "        0    : 0\n",
    "    }\n",
    "    \n",
    "    #basement finish dictionary\n",
    "    bsmt_fin_dict = {\n",
    "       'GLQ' : 5,\n",
    "       'ALQ' : 4, \n",
    "       'BLQ' : 3,\n",
    "       'Rec' : 3,\n",
    "       'LwQ' : 2,\n",
    "       'Unf' : 1,\n",
    "        0    : 0\n",
    "    }\n",
    "        \n",
    "    # fil lot frontage empties with mean value\n",
    "    lot_frontage_mean = df['lot_frontage'].mean()\n",
    "    df['lot_frontage'].fillna(lot_frontage_mean, inplace=True)\n",
    "    \n",
    "    #fill NA values with 'none' for nominal data when appropriate according to data dictionary\n",
    "    df['alley'].fillna('None', inplace=True)\n",
    "    df['mas_vnr_type'].fillna('None', inplace=True)\n",
    "    df['garage_type'].fillna('None', inplace=True)\n",
    "    df['misc_feature'].fillna('None', inplace=True)\n",
    "    \n",
    "    #ordinal mapping for lot shape\n",
    "    df['lot_shape'] = df['lot_shape'].map({'Regular': 4, 'IR1': 3 , 'IR2' : 2,  'IR3' : 1})     \n",
    "    \n",
    "    #ordinal mapping for utilities\n",
    "    df['utilities'] = df['utilities'].map({'AllPub': 4, 'NoSeWa': 3 , 'NoSewr' : 2, 'ELO': 1})   \n",
    "    \n",
    "     #ordinal mapping for land slope\n",
    "    df['land_slope'] = df['land_slope'].map({'Gtl': 3, 'NMod': 2 , 'Sev' : 1})     \n",
    "    \n",
    "    #ordinal mapping for basement exposure\n",
    "    df['bsmt_exposure'] = df['bsmt_exposure'].map({'Gd': 3, 'Av': 2 , 'Mn' : 1, 'No': 0})     \n",
    "    \n",
    "    #ordinal mapping for electrical\n",
    "    df['electrical'] = df['electrical'].map({'SBrkr': 4, 'FuseA': 3 , 'FuseF' : 2, 'FuseP': 1, 'Mix' : 2})    \n",
    "    \n",
    "    #ordinal mapping for functional\n",
    "    df['functional'] = df['functional'].map({'Typ': 5, 'Min1':4 , 'Min2':4, 'Mod':3, 'Maj1':2, 'Maj2':2, 'Sev':1, 'Sal':1})    \n",
    "\n",
    "     #garage finish ordinal mapping\n",
    "    df['garage_finish'] = df['garage_finish'].map({'Fin': 3, 'RFn': 2 , 'Unf' : 1})     \n",
    "    \n",
    "     #driveway paving ordinal mapping\n",
    "    df['paved_drive'] = df['paved_drive'].map({'Y': 3, 'P': 2 , 'N' : 1})         \n",
    "    \n",
    "    #ordinal mapping for fencing\n",
    "    df['fence'] = df['fence'].map({'GdPrv': 4, 'MnPrv': 3 , 'GdWo' : 2, 'MnWw': 1})     \n",
    "    \n",
    "    #fill all other nulls with 0 vals\n",
    "    df.fillna(0, inplace=True)    \n",
    "\n",
    "    #casting values based on the basement finish dictionary \n",
    "    df['bsmtfin_type_1'] = df['bsmtfin_type_1'].map(bsmt_fin_dict)\n",
    "    df['bsmtfin_type_2'] = df['bsmtfin_type_2'].map(bsmt_fin_dict)\n",
    "    \n",
    "    #casting values based on the ordinal dictionary  \n",
    "    df['exter_qual'] = df['exter_qual'].map(ord_dict)\n",
    "    df['exter_cond'] = df['exter_cond'].map(ord_dict)\n",
    "    df['bsmt_qual'] = df['bsmt_qual'].map(ord_dict)\n",
    "    df['bsmt_cond'] = df['bsmt_cond'].map(ord_dict)\n",
    "    df['heating_qc'] = df['heating_qc'].map(ord_dict)\n",
    "    df['kitchen_qual'] = df['kitchen_qual'].map(ord_dict)\n",
    "    df['fireplace_qu'] = df['fireplace_qu'].map(ord_dict)   \n",
    "    df['garage_qual'] = df['garage_qual'].map(ord_dict)    \n",
    "    df['garage_cond'] = df['garage_cond'].map(ord_dict)    \n",
    "    df['pool_qc'] = df['pool_qc'].map(ord_dict)  \n",
    "    \n",
    "    #feature extraction\n",
    "    df['house_age'] = 2011 - df['year_built']\n",
    "    df['remod_age'] = 2011 - df['year_remod/add']   \n",
    "    df['total_bath'] = df['full_bath'] + df['half_bath']\n",
    "    \n",
    "    #drop columns that were replaced by age\n",
    "    df.drop(columns=['year_built', 'year_remod/add'], inplace=True)  \n",
    "    \n",
    "    #feature interactions\n",
    "    df['bed_x_bath'] = df['full_bath'] * df['bedroom_abvgr']\n",
    "    df['bed_x_total_bath'] = df['total_bath'] * df['bedroom_abvgr'] \n",
    "    df['total_rms_x_total_bath'] = df['total_bath'] * df['totrms_abvgrd']     \n",
    "    \n",
    "    df['overall'] = df['overall_qual'] * df['overall_cond'] * df['functional']\n",
    "    df['exter_overall'] = df['exter_qual'] * df['exter_cond']\n",
    "    df['bsmt_overall'] = df['bsmt_qual'] * df['bsmt_cond']\n",
    "    df['garage_overall'] = df['garage_qual'] * df['garage_cond'] \n",
    "    \n",
    "    df['ages'] = df['house_age'] * df['remod_age']  \n",
    "    df['log_ages'] = np.log(df['ages'])\n",
    "    \n",
    "    df['kitchen_qual_x_number'] = df['kitchen_qual'] * df['kitchen_abvgr']\n",
    "    \n",
    "    #one hot encode year house was sold to separate out for financial crisis\n",
    "    df = pd.get_dummies(df, columns=['yr_sold'], drop_first=True)\n",
    "    \n",
    "    #one hot encode ms subclass for info on type of house\n",
    "    df = pd.get_dummies(df, columns=['ms_subclass'], drop_first=True)\n",
    "    \n",
    "    #one hot encode all categorical features\n",
    "    df = pd.get_dummies(df, drop_first=True)\n",
    "    \n",
    "    #lowercase columns after get dummies\n",
    "    df.columns = df.columns.str.lower().str.replace(' ', '_')\n",
    "    \n",
    "    return df\n",
    "    \n",
    "#modified this code after example from Chuck's optional pipeline lesson"
   ]
  },
  {
   "cell_type": "code",
   "execution_count": 9,
   "id": "d35ee94b",
   "metadata": {},
   "outputs": [],
   "source": [
    "#make copy of training data to read in for model\n",
    "\n",
    "houses2= houses.copy()"
   ]
  },
  {
   "cell_type": "code",
   "execution_count": 10,
   "id": "b76a5708",
   "metadata": {},
   "outputs": [],
   "source": [
    "#use data cleaning function on houses df\n",
    "\n",
    "houses2 = clean_data_added_features(houses2)"
   ]
  },
  {
   "cell_type": "code",
   "execution_count": 11,
   "id": "afdcb140",
   "metadata": {},
   "outputs": [],
   "source": [
    "# drop all outliers for modeling\n",
    "\n",
    "houses2 = houses2[houses2['gr_liv_area']<4000]\n",
    "\n",
    "houses2 = houses2[houses2['bedroom_abvgr']<8]\n",
    "\n",
    "houses2 = houses2[houses2['lot_area']<100_000]\n",
    "\n",
    "houses2 = houses2[(houses2['kitchen_abvgr']==1) | (houses2['kitchen_abvgr']==2)]\n",
    "\n",
    "houses2 = houses2[houses2['bed_x_bath']>0]\n",
    "\n",
    "houses2 = houses2[houses2['totrms_abvgrd']<13]"
   ]
  },
  {
   "cell_type": "code",
   "execution_count": 12,
   "id": "b09ec2e7",
   "metadata": {},
   "outputs": [
    {
     "data": {
      "text/plain": [
       "(2033, 227)"
      ]
     },
     "execution_count": 12,
     "metadata": {},
     "output_type": "execute_result"
    }
   ],
   "source": [
    "houses2.shape"
   ]
  },
  {
   "cell_type": "code",
   "execution_count": 13,
   "id": "760c5e10",
   "metadata": {},
   "outputs": [
    {
     "data": {
      "text/html": [
       "<div>\n",
       "<style scoped>\n",
       "    .dataframe tbody tr th:only-of-type {\n",
       "        vertical-align: middle;\n",
       "    }\n",
       "\n",
       "    .dataframe tbody tr th {\n",
       "        vertical-align: top;\n",
       "    }\n",
       "\n",
       "    .dataframe thead th {\n",
       "        text-align: right;\n",
       "    }\n",
       "</style>\n",
       "<table border=\"1\" class=\"dataframe\">\n",
       "  <thead>\n",
       "    <tr style=\"text-align: right;\">\n",
       "      <th></th>\n",
       "      <th>id</th>\n",
       "      <th>pid</th>\n",
       "      <th>lot_frontage</th>\n",
       "      <th>lot_area</th>\n",
       "      <th>lot_shape</th>\n",
       "      <th>utilities</th>\n",
       "      <th>land_slope</th>\n",
       "      <th>overall_qual</th>\n",
       "      <th>overall_cond</th>\n",
       "      <th>mas_vnr_area</th>\n",
       "      <th>...</th>\n",
       "      <th>misc_feature_shed</th>\n",
       "      <th>misc_feature_tenc</th>\n",
       "      <th>sale_type_cwd</th>\n",
       "      <th>sale_type_con</th>\n",
       "      <th>sale_type_conld</th>\n",
       "      <th>sale_type_conli</th>\n",
       "      <th>sale_type_conlw</th>\n",
       "      <th>sale_type_new</th>\n",
       "      <th>sale_type_oth</th>\n",
       "      <th>sale_type_wd_</th>\n",
       "    </tr>\n",
       "  </thead>\n",
       "  <tbody>\n",
       "    <tr>\n",
       "      <th>0</th>\n",
       "      <td>109</td>\n",
       "      <td>533352170</td>\n",
       "      <td>69.0552</td>\n",
       "      <td>13517</td>\n",
       "      <td>3.0</td>\n",
       "      <td>4</td>\n",
       "      <td>3.0</td>\n",
       "      <td>6</td>\n",
       "      <td>8</td>\n",
       "      <td>289.0</td>\n",
       "      <td>...</td>\n",
       "      <td>0</td>\n",
       "      <td>0</td>\n",
       "      <td>0</td>\n",
       "      <td>0</td>\n",
       "      <td>0</td>\n",
       "      <td>0</td>\n",
       "      <td>0</td>\n",
       "      <td>0</td>\n",
       "      <td>0</td>\n",
       "      <td>1</td>\n",
       "    </tr>\n",
       "    <tr>\n",
       "      <th>1</th>\n",
       "      <td>544</td>\n",
       "      <td>531379050</td>\n",
       "      <td>43.0000</td>\n",
       "      <td>11492</td>\n",
       "      <td>3.0</td>\n",
       "      <td>4</td>\n",
       "      <td>3.0</td>\n",
       "      <td>7</td>\n",
       "      <td>5</td>\n",
       "      <td>132.0</td>\n",
       "      <td>...</td>\n",
       "      <td>0</td>\n",
       "      <td>0</td>\n",
       "      <td>0</td>\n",
       "      <td>0</td>\n",
       "      <td>0</td>\n",
       "      <td>0</td>\n",
       "      <td>0</td>\n",
       "      <td>0</td>\n",
       "      <td>0</td>\n",
       "      <td>1</td>\n",
       "    </tr>\n",
       "    <tr>\n",
       "      <th>2</th>\n",
       "      <td>153</td>\n",
       "      <td>535304180</td>\n",
       "      <td>68.0000</td>\n",
       "      <td>7922</td>\n",
       "      <td>0.0</td>\n",
       "      <td>4</td>\n",
       "      <td>3.0</td>\n",
       "      <td>5</td>\n",
       "      <td>7</td>\n",
       "      <td>0.0</td>\n",
       "      <td>...</td>\n",
       "      <td>0</td>\n",
       "      <td>0</td>\n",
       "      <td>0</td>\n",
       "      <td>0</td>\n",
       "      <td>0</td>\n",
       "      <td>0</td>\n",
       "      <td>0</td>\n",
       "      <td>0</td>\n",
       "      <td>0</td>\n",
       "      <td>1</td>\n",
       "    </tr>\n",
       "    <tr>\n",
       "      <th>3</th>\n",
       "      <td>318</td>\n",
       "      <td>916386060</td>\n",
       "      <td>73.0000</td>\n",
       "      <td>9802</td>\n",
       "      <td>0.0</td>\n",
       "      <td>4</td>\n",
       "      <td>3.0</td>\n",
       "      <td>5</td>\n",
       "      <td>5</td>\n",
       "      <td>0.0</td>\n",
       "      <td>...</td>\n",
       "      <td>0</td>\n",
       "      <td>0</td>\n",
       "      <td>0</td>\n",
       "      <td>0</td>\n",
       "      <td>0</td>\n",
       "      <td>0</td>\n",
       "      <td>0</td>\n",
       "      <td>0</td>\n",
       "      <td>0</td>\n",
       "      <td>1</td>\n",
       "    </tr>\n",
       "    <tr>\n",
       "      <th>4</th>\n",
       "      <td>255</td>\n",
       "      <td>906425045</td>\n",
       "      <td>82.0000</td>\n",
       "      <td>14235</td>\n",
       "      <td>3.0</td>\n",
       "      <td>4</td>\n",
       "      <td>3.0</td>\n",
       "      <td>6</td>\n",
       "      <td>8</td>\n",
       "      <td>0.0</td>\n",
       "      <td>...</td>\n",
       "      <td>0</td>\n",
       "      <td>0</td>\n",
       "      <td>0</td>\n",
       "      <td>0</td>\n",
       "      <td>0</td>\n",
       "      <td>0</td>\n",
       "      <td>0</td>\n",
       "      <td>0</td>\n",
       "      <td>0</td>\n",
       "      <td>1</td>\n",
       "    </tr>\n",
       "  </tbody>\n",
       "</table>\n",
       "<p>5 rows × 227 columns</p>\n",
       "</div>"
      ],
      "text/plain": [
       "    id        pid  lot_frontage  lot_area  lot_shape  utilities  land_slope  \\\n",
       "0  109  533352170       69.0552     13517        3.0          4         3.0   \n",
       "1  544  531379050       43.0000     11492        3.0          4         3.0   \n",
       "2  153  535304180       68.0000      7922        0.0          4         3.0   \n",
       "3  318  916386060       73.0000      9802        0.0          4         3.0   \n",
       "4  255  906425045       82.0000     14235        3.0          4         3.0   \n",
       "\n",
       "   overall_qual  overall_cond  mas_vnr_area  ...  misc_feature_shed  \\\n",
       "0             6             8         289.0  ...                  0   \n",
       "1             7             5         132.0  ...                  0   \n",
       "2             5             7           0.0  ...                  0   \n",
       "3             5             5           0.0  ...                  0   \n",
       "4             6             8           0.0  ...                  0   \n",
       "\n",
       "   misc_feature_tenc  sale_type_cwd  sale_type_con  sale_type_conld  \\\n",
       "0                  0              0              0                0   \n",
       "1                  0              0              0                0   \n",
       "2                  0              0              0                0   \n",
       "3                  0              0              0                0   \n",
       "4                  0              0              0                0   \n",
       "\n",
       "   sale_type_conli  sale_type_conlw  sale_type_new  sale_type_oth  \\\n",
       "0                0                0              0              0   \n",
       "1                0                0              0              0   \n",
       "2                0                0              0              0   \n",
       "3                0                0              0              0   \n",
       "4                0                0              0              0   \n",
       "\n",
       "   sale_type_wd_  \n",
       "0              1  \n",
       "1              1  \n",
       "2              1  \n",
       "3              1  \n",
       "4              1  \n",
       "\n",
       "[5 rows x 227 columns]"
      ]
     },
     "execution_count": 13,
     "metadata": {},
     "output_type": "execute_result"
    }
   ],
   "source": [
    "houses2.head()"
   ]
  },
  {
   "cell_type": "markdown",
   "id": "b2850979",
   "metadata": {},
   "source": [
    "### Visualizations"
   ]
  },
  {
   "cell_type": "code",
   "execution_count": 15,
   "id": "235a962b",
   "metadata": {},
   "outputs": [
    {
     "data": {
      "text/plain": [
       "count    2033.000000\n",
       "mean        3.517462\n",
       "std         0.663158\n",
       "min         2.000000\n",
       "25%         3.000000\n",
       "50%         3.000000\n",
       "75%         4.000000\n",
       "max         5.000000\n",
       "Name: kitchen_qual, dtype: float64"
      ]
     },
     "execution_count": 15,
     "metadata": {},
     "output_type": "execute_result"
    }
   ],
   "source": [
    "#will narrow in on the kitchen quality varible for visuals\n",
    "\n",
    "houses2['kitchen_qual'].describe()"
   ]
  },
  {
   "cell_type": "code",
   "execution_count": 45,
   "id": "e617af06",
   "metadata": {},
   "outputs": [
    {
     "data": {
      "text/html": [
       "<div>\n",
       "<style scoped>\n",
       "    .dataframe tbody tr th:only-of-type {\n",
       "        vertical-align: middle;\n",
       "    }\n",
       "\n",
       "    .dataframe tbody tr th {\n",
       "        vertical-align: top;\n",
       "    }\n",
       "\n",
       "    .dataframe thead th {\n",
       "        text-align: right;\n",
       "    }\n",
       "</style>\n",
       "<table border=\"1\" class=\"dataframe\">\n",
       "  <thead>\n",
       "    <tr style=\"text-align: right;\">\n",
       "      <th></th>\n",
       "      <th>kitchen_qual</th>\n",
       "      <th>quality</th>\n",
       "    </tr>\n",
       "  </thead>\n",
       "  <tbody>\n",
       "    <tr>\n",
       "      <th>2</th>\n",
       "      <td>0.022135</td>\n",
       "      <td>Fair</td>\n",
       "    </tr>\n",
       "    <tr>\n",
       "      <th>3</th>\n",
       "      <td>0.511067</td>\n",
       "      <td>Average</td>\n",
       "    </tr>\n",
       "    <tr>\n",
       "      <th>4</th>\n",
       "      <td>0.393999</td>\n",
       "      <td>Good</td>\n",
       "    </tr>\n",
       "    <tr>\n",
       "      <th>5</th>\n",
       "      <td>0.072799</td>\n",
       "      <td>Excellent</td>\n",
       "    </tr>\n",
       "  </tbody>\n",
       "</table>\n",
       "</div>"
      ],
      "text/plain": [
       "   kitchen_qual    quality\n",
       "2      0.022135       Fair\n",
       "3      0.511067    Average\n",
       "4      0.393999       Good\n",
       "5      0.072799  Excellent"
      ]
     },
     "execution_count": 45,
     "metadata": {},
     "output_type": "execute_result"
    }
   ],
   "source": [
    "#creating kitchen quality df with normalized values for % of sample\n",
    "\n",
    "kitchen_qual_df = houses2['kitchen_qual'].value_counts(normalize=True).sort_index(axis=0)\n",
    "\n",
    "kitchen_qual_df = pd.DataFrame(kitchen_qual_df)\n",
    "\n",
    "#map quality values to words to make it more understandable in visual\n",
    "kitchen_qual_df['quality'] = kitchen_qual_df.index.map({\n",
    "    2 : 'Fair', \n",
    "    3 :'Average',\n",
    "    4 : 'Good', \n",
    "    5 : 'Excellent'\n",
    "})\n",
    "\n",
    "kitchen_qual_df.head()"
   ]
  },
  {
   "cell_type": "code",
   "execution_count": 28,
   "id": "63d5a3ac",
   "metadata": {
    "scrolled": false
   },
   "outputs": [
    {
     "data": {
      "image/png": "[encoded data removed]",
      "text/plain": [
       "<Figure size 432x288 with 1 Axes>"
      ]
     },
     "metadata": {
      "needs_background": "light"
     },
     "output_type": "display_data"
    }
   ],
   "source": [
    "#plot distribution of kitchen quality feature in training data\n",
    "\n",
    "sns.barplot(x=kitchen_qual_df['quality'], y=kitchen_qual_df['kitchen_qual']);\n",
    "plt.title('Kitchen Quality Distribution')\n",
    "plt.xlabel('Kitchen Quality ')\n",
    "plt.ylabel('% of Sample Data');"
   ]
  },
  {
   "cell_type": "markdown",
   "id": "53c2cb4f",
   "metadata": {},
   "source": [
    "From this graph we can see that less than 10% of the homes in the training dataset have a '5' for kitchen quality so a lot of people in the 3's and 4's might want to know this information before selling their home.\n",
    "\n",
    "About 50% of the homes sold are currently only average kitchen quality!"
   ]
  },
  {
   "cell_type": "code",
   "execution_count": 29,
   "id": "1390b4ea",
   "metadata": {},
   "outputs": [
    {
     "data": {
      "text/html": [
       "<div>\n",
       "<style scoped>\n",
       "    .dataframe tbody tr th:only-of-type {\n",
       "        vertical-align: middle;\n",
       "    }\n",
       "\n",
       "    .dataframe tbody tr th {\n",
       "        vertical-align: top;\n",
       "    }\n",
       "\n",
       "    .dataframe thead th {\n",
       "        text-align: right;\n",
       "    }\n",
       "</style>\n",
       "<table border=\"1\" class=\"dataframe\">\n",
       "  <thead>\n",
       "    <tr style=\"text-align: right;\">\n",
       "      <th></th>\n",
       "      <th>saleprice</th>\n",
       "      <th>quality</th>\n",
       "    </tr>\n",
       "    <tr>\n",
       "      <th>kitchen_qual</th>\n",
       "      <th></th>\n",
       "      <th></th>\n",
       "    </tr>\n",
       "  </thead>\n",
       "  <tbody>\n",
       "    <tr>\n",
       "      <th>2</th>\n",
       "      <td>100038.73</td>\n",
       "      <td>Fair</td>\n",
       "    </tr>\n",
       "    <tr>\n",
       "      <th>3</th>\n",
       "      <td>139604.98</td>\n",
       "      <td>Average</td>\n",
       "    </tr>\n",
       "    <tr>\n",
       "      <th>4</th>\n",
       "      <td>211156.23</td>\n",
       "      <td>Good</td>\n",
       "    </tr>\n",
       "    <tr>\n",
       "      <th>5</th>\n",
       "      <td>338988.14</td>\n",
       "      <td>Excellent</td>\n",
       "    </tr>\n",
       "  </tbody>\n",
       "</table>\n",
       "</div>"
      ],
      "text/plain": [
       "              saleprice    quality\n",
       "kitchen_qual                      \n",
       "2             100038.73       Fair\n",
       "3             139604.98    Average\n",
       "4             211156.23       Good\n",
       "5             338988.14  Excellent"
      ]
     },
     "execution_count": 29,
     "metadata": {},
     "output_type": "execute_result"
    }
   ],
   "source": [
    "#mean sales price by kitchen quality\n",
    "\n",
    "avg_price_by_qual = round(houses2['saleprice'].groupby(houses2['kitchen_qual']).mean(),2)\n",
    "\n",
    "avg_price_by_qual = pd.DataFrame(avg_price_by_qual)\n",
    "\n",
    "avg_price_by_qual['quality'] = avg_price_by_qual.index.map({\n",
    "    2 : 'Fair', \n",
    "    3 :'Average',\n",
    "    4 : 'Good', \n",
    "    5 : 'Excellent'\n",
    "})\n",
    "\n",
    "avg_price_by_qual.head()"
   ]
  },
  {
   "cell_type": "code",
   "execution_count": 24,
   "id": "769f2d35",
   "metadata": {},
   "outputs": [
    {
     "data": {
      "image/png": "[encoded data removed]",
      "text/plain": [
       "<Figure size 432x288 with 1 Axes>"
      ]
     },
     "metadata": {
      "needs_background": "light"
     },
     "output_type": "display_data"
    }
   ],
   "source": [
    "#plot kitchen quality vs avg price\n",
    "\n",
    "sns.lineplot(x= avg_price_by_qual.index, y= avg_price_by_qual['saleprice']);\n",
    "plt.title('Kitchen Quality vs Avg Sale Price')\n",
    "plt.xlabel('Kitchen Quality')\n",
    "plt.ylabel('Avg Sale Price ($)');\n",
    "plt.locator_params(axis=\"x\", nbins=4);\n",
    "\n",
    "\n",
    "# referenced how to change amount of ticks in graph here\n",
    "#https://www.kite.com/python/answers/how-to-change-the-number-of-ticks-on-a-plot-axis-in-matplotlib-in-python"
   ]
  },
  {
   "cell_type": "markdown",
   "id": "575977d9",
   "metadata": {},
   "source": [
    "This line graph of avg sales price vs each level of kitchen quality shows that price increases as the quality increases."
   ]
  },
  {
   "cell_type": "code",
   "execution_count": 44,
   "id": "eb6ce598",
   "metadata": {
    "scrolled": true
   },
   "outputs": [
    {
     "data": {
      "image/png": "[encoded data removed]",
      "text/plain": [
       "<Figure size 432x288 with 1 Axes>"
      ]
     },
     "metadata": {
      "needs_background": "light"
     },
     "output_type": "display_data"
    }
   ],
   "source": [
    "sns.boxplot(x=houses2['kitchen_qual'].sort_values(ascending=True).map({\n",
    "    2 : 'Fair', \n",
    "    3 :'Average',\n",
    "    4 : 'Good', \n",
    "    5 : 'Excellent'\n",
    "}), \n",
    "            y=houses2['saleprice']);\n",
    "\n",
    "plt.title('Kitchen Quality and Sale Price')\n",
    "plt.xlabel('Kitchen Quality')\n",
    "plt.ylabel('Sale Price ($)');"
   ]
  },
  {
   "cell_type": "markdown",
   "id": "0d1ba59f",
   "metadata": {},
   "source": [
    "Similarly, this boxplot shows how the home price increases as the kitchen quality increases. Obviously, price is dependent on more than just the kitchen quality but this does seem to be a telling variable. "
   ]
  }
 ],
 "metadata": {
  "kernelspec": {
   "display_name": "Python 3",
   "language": "python",
   "name": "python3"
  },
  "language_info": {
   "codemirror_mode": {
    "name": "ipython",
    "version": 3
   },
   "file_extension": ".py",
   "mimetype": "text/x-python",
   "name": "python",
   "nbconvert_exporter": "python",
   "pygments_lexer": "ipython3",
   "version": "3.8.8"
  }
 },
 "nbformat": 4,
 "nbformat_minor": 5
}
